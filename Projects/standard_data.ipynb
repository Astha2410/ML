{
 "cells": [
  {
   "cell_type": "code",
   "execution_count": 1,
   "metadata": {},
   "outputs": [],
   "source": [
    "import ee, datetime\n",
    "import pandas as pd\n",
    "import numpy as np\n",
    "import datetime as dt"
   ]
  },
  {
   "cell_type": "code",
   "execution_count": 2,
   "metadata": {},
   "outputs": [
    {
     "data": {
      "text/html": [
       "<p>To authorize access needed by Earth Engine, open the following\n",
       "        URL in a web browser and follow the instructions:</p>\n",
       "        <p><a href=https://code.earthengine.google.com/client-auth?scopes=https%3A//www.googleapis.com/auth/earthengine%20https%3A//www.googleapis.com/auth/devstorage.full_control&request_id=0ILfYOs33GWS7aS2whrVJfX65emlKQaZk-9FpgsX-IE&tc=WekO1AupTNJlvBoxllzKe-J9JRMwk13gmQu01AvETmw&cc=0SjbraXRqq1uSqzYkWZfC0FHxpQsZCPhkAGS4RREbQo>https://code.earthengine.google.com/client-auth?scopes=https%3A//www.googleapis.com/auth/earthengine%20https%3A//www.googleapis.com/auth/devstorage.full_control&request_id=0ILfYOs33GWS7aS2whrVJfX65emlKQaZk-9FpgsX-IE&tc=WekO1AupTNJlvBoxllzKe-J9JRMwk13gmQu01AvETmw&cc=0SjbraXRqq1uSqzYkWZfC0FHxpQsZCPhkAGS4RREbQo</a></p>\n",
       "        <p>The authorization workflow will generate a code, which you should paste in the box below.</p>\n",
       "        "
      ],
      "text/plain": [
       "<IPython.core.display.HTML object>"
      ]
     },
     "metadata": {},
     "output_type": "display_data"
    },
    {
     "name": "stdout",
     "output_type": "stream",
     "text": [
      "\n",
      "Successfully saved authorization token.\n"
     ]
    }
   ],
   "source": [
    "ee.Authenticate()\n",
    "ee.Initialize()"
   ]
  },
  {
   "cell_type": "code",
   "execution_count": 3,
   "metadata": {},
   "outputs": [],
   "source": [
    "geometry = ee.Geometry.Polygon([[[77.42117255516425,23.20909792227606],[77.42057174034491,23.20799353262676],[77.42040007896796,23.207520219982936],[77.4200996715583,23.2069285768207],[77.41949885673895,23.207125791499145],[77.41902678795233,23.207007462726995],[77.41889804191962,23.206258044736966],[77.41868346519843,23.20550862254438],[77.41868346519843,23.204995857570196],[77.41851180382147,23.204680308915954],[77.41816848106757,23.203970321719954],[77.41885512657538,23.20314199855786],[77.41928428001776,23.202787001345527],[77.4204429943122,23.201840337503217],[77.42082923241034,23.201406447668166],[77.42125838585272,23.20089366695645],[77.42173045463934,23.20101200114144],[77.4224600154914,23.20140644766817],[77.42327540703192,23.20152478139923],[77.42361872978583,23.20187978196384],[77.42366164513007,23.202313670262438],[77.42413371391669,23.202589780264603],[77.42464869804755,23.203209392314182],[77.42507785148993,23.203761608047508],[77.42524951286688,23.20451104003633],[77.42451995201483,23.20569434514694],[77.42387622185126,23.206207107441198],[77.42348998375311,23.20707485453413],[77.42306083031075,23.208179251775938],[77.42284625358954,23.208692004535596],[77.42207377739327,23.20853423466525],[77.42143004722968,23.20837646460864],[77.42117255516425,23.20909792227606]]])"
   ]
  },
  {
   "cell_type": "code",
   "execution_count": 4,
   "metadata": {},
   "outputs": [],
   "source": [
    "def get_data(start_date, end_date):\n",
    "\n",
    "# Selecting the satellite and AOI  \n",
    "# Sentinel 2A\n",
    "# copernicus/s2_sr \n",
    "    sentinel = ee.ImageCollection(\"COPERNICUS/S2_SR\").\\\n",
    "               filter(ee.Filter.lt('CLOUDY_PIXEL_PERCENTAGE',20)).\\\n",
    "               filterDate(start_date, end_date)\n",
    "    AOI = geometry\n",
    "\n",
    "    sentinel_AOI = sentinel.filterBounds(AOI)\n",
    "# NDCI calculation\n",
    "    def calculate_NDCI(image):\n",
    "        ndci = image.normalizedDifference(['B5', 'B4']).rename('NDCI')\n",
    "        return image.addBands(ndci)\n",
    "    ndci = sentinel_AOI.map(calculate_NDCI)  \n",
    "\n",
    "# NDCI mean\n",
    "    def calculate_mean_NDCI(image):\n",
    "        image = ee.Image(image)\n",
    "        mean = image.reduceRegion(reducer = ee.Reducer.mean().setOutputs(['NDCI']),\n",
    "                           geometry = AOI,\n",
    "                           scale = image.projection().nominalScale().getInfo(),\n",
    "                           maxPixels = 100000,\n",
    "                           bestEffort = True);\n",
    "        return mean.get('NDCI').getInfo()    \n",
    "    \n",
    "# NDCI mean collection    \n",
    "    Images_ndci = ndci.select('NDCI').toList(ndci.size())\n",
    "    ndci_coll = []\n",
    "    for i in range(Images_ndci.length().getInfo()):\n",
    "        image = ee.Image(Images_ndci.get(i-1))\n",
    "        temp_ndci = calculate_mean_NDCI(image)\n",
    "        ndci_coll.append(temp_ndci)\n",
    "# Dates collection\n",
    "    dates = np.array(ndci.aggregate_array(\"system:time_start\").getInfo())\n",
    "    day = [datetime.datetime.fromtimestamp(i/1000).strftime('%Y-%m-%d') for i in (dates)]\n",
    "\n",
    "# Dataframe for chlorophyll\n",
    "    df = pd.DataFrame(ndci_coll, index = day, columns = ['Chlorophyll'])\n",
    "    df.index = pd.to_datetime(df.index, format=\"%Y/%m/%d\")\n",
    "    df.sort_index(ascending = True, inplace = True)\n",
    "\n",
    "    return df\n"
   ]
  },
  {
   "cell_type": "code",
   "execution_count": 5,
   "metadata": {},
   "outputs": [],
   "source": [
    "# Calling the function\n",
    "df1 = get_data('2019-01-01', '2019-02-10')\n",
    "df1.to_csv('ndci.csv')"
   ]
  },
  {
   "cell_type": "code",
   "execution_count": null,
   "metadata": {},
   "outputs": [],
   "source": []
  }
 ],
 "metadata": {
  "kernelspec": {
   "display_name": "Python 3",
   "language": "python",
   "name": "python3"
  },
  "language_info": {
   "codemirror_mode": {
    "name": "ipython",
    "version": 3
   },
   "file_extension": ".py",
   "mimetype": "text/x-python",
   "name": "python",
   "nbconvert_exporter": "python",
   "pygments_lexer": "ipython3",
   "version": "3.10.2"
  },
  "orig_nbformat": 4
 },
 "nbformat": 4,
 "nbformat_minor": 2
}
