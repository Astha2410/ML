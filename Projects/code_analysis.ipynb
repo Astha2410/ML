{
 "cells": [
  {
   "cell_type": "code",
   "execution_count": 1,
   "metadata": {},
   "outputs": [],
   "source": [
    "import ipywidgets as widgets\n",
    "import pandas as pd\n",
    "import numpy as np\n",
    "from sklearn.preprocessing import MinMaxScaler\n",
    "import geemap\n",
    "import ee"
   ]
  },
  {
   "cell_type": "code",
   "execution_count": 2,
   "metadata": {},
   "outputs": [
    {
     "data": {
      "text/html": [
       "<p>To authorize access needed by Earth Engine, open the following\n",
       "        URL in a web browser and follow the instructions:</p>\n",
       "        <p><a href=https://code.earthengine.google.com/client-auth?scopes=https%3A//www.googleapis.com/auth/earthengine%20https%3A//www.googleapis.com/auth/devstorage.full_control&request_id=543--eVVsLMMATL1vRHTO7TQFxIUbRph68ywnYwaIzE&tc=p67tbQ8-EXJ8TcEACz3xGRlk0F64CxCFWkIIg6Y7P4k&cc=jz1pEX6NkK_jnRkzkHd9XKKhx3GdlDbItthv4pc8Rgc>https://code.earthengine.google.com/client-auth?scopes=https%3A//www.googleapis.com/auth/earthengine%20https%3A//www.googleapis.com/auth/devstorage.full_control&request_id=543--eVVsLMMATL1vRHTO7TQFxIUbRph68ywnYwaIzE&tc=p67tbQ8-EXJ8TcEACz3xGRlk0F64CxCFWkIIg6Y7P4k&cc=jz1pEX6NkK_jnRkzkHd9XKKhx3GdlDbItthv4pc8Rgc</a></p>\n",
       "        <p>The authorization workflow will generate a code, which you should paste in the box below.</p>\n",
       "        "
      ],
      "text/plain": [
       "<IPython.core.display.HTML object>"
      ]
     },
     "metadata": {},
     "output_type": "display_data"
    },
    {
     "name": "stdout",
     "output_type": "stream",
     "text": [
      "\n",
      "Successfully saved authorization token.\n"
     ]
    }
   ],
   "source": [
    "ee.Authenticate()\n",
    "ee.Initialize()"
   ]
  },
  {
   "cell_type": "code",
   "execution_count": 3,
   "metadata": {},
   "outputs": [],
   "source": [
    "Map = geemap.Map()\n",
    "geometry = ee.Geometry.Point([77.42174899777628,23.205021037202645])\n",
    "image = ee.ImageCollection(\"COPERNICUS/S2_SR\") \\\n",
    "    .filterBounds(geometry) \\\n",
    "    .filter(ee.Filter.lte('CLOUDY_PIXEL_PERCENTAGE', 10)) \\\n",
    "    .first()\n",
    "start_date, end_date = \"2015-01-01\", \"2022-12-01\"\n",
    "\n",
    "ndwi = image.normalizedDifference(['B3', 'B8'])\n",
    "\n",
    "ndwiMasked = ndwi.updateMask(ndwi.gte(0.4))\n",
    "ndwiMasked1 = ndwiMasked.toInt()\n",
    "\n",
    "vectors = ndwiMasked1.reduceToVectors(\n",
    "    scale=30.0, geometryType='polygon', eightConnected=False, maxPixels=10000000, bestEffort=True)"
   ]
  },
  {
   "cell_type": "code",
   "execution_count": 4,
   "metadata": {},
   "outputs": [],
   "source": [
    "geometry = ee.Geometry.Point([77.42174899777628, 23.205021037202645])\n",
    "Map.addLayer(geometry)\n",
    "sentinel = ee.ImageCollection(\"COPERNICUS/S2_SR\").filterBounds(vectors) \\\n",
    "    .filterDate(start_date, end_date) \\\n",
    "    .filter(ee.Filter.lt('CLOUDY_PIXEL_PERCENTAGE', 10)) \\\n",
    "    .median()\n",
    "\n",
    "visualization = {\n",
    "    'min': 0,\n",
    "    'max': 3000,\n",
    "    'bands': ['B4', 'B3', 'B2'],\n",
    "}\n",
    "Map.addLayer(sentinel, visualization, 'sent2rgb')\n",
    "mndwi = sentinel.normalizedDifference(['B3', 'B11']).rename('mndwi')\n",
    "mndwitr = mndwi.gt(0)\n",
    "\n",
    "dissolvedoxygen = ee.Image(-0.0167).multiply(sentinel.select('B8')).add(ee.Image(0.0067).multiply(sentinel.select(\n",
    "    'B9'))).add(ee.Image(0.0083).multiply(sentinel.select('B11'))).add(ee.Image(9.577)).rename('dissolvedoxygen')\n",
    "dissolvedoxygen2 = ee.Image(-0.0167).multiply(sentinel.select('B8')).add(ee.Image(0.0067).multiply(sentinel.select('B9'))).add(\n",
    "    ee.Image(0.0083).multiply(sentinel.select('B11'))).add(ee.Image(9.577)).rename('dissolvedoxygen2').mask(mndwitr)\n",
    "Map.addLayer(dissolvedoxygen2, {'min': 6.5, 'max': 8, 'palette': [\n",
    "             'red', 'green', 'blue']}, 'do')\n",
    "\n",
    "phosphate = sentinel.expression('(B4 - B5) / (B4 + B5)', {\n",
    "    'B4': sentinel.select('B4'),\n",
    "    'B5': sentinel.select('B5')}).rename('phosphate')\n",
    "Map.addLayer(phosphate, {'min': -1, 'max': 1,'palette': ['brown', 'white', 'green']}, 'phosphate')\n",
    "\n"
   ]
  },
  {
   "cell_type": "code",
   "execution_count": 5,
   "metadata": {},
   "outputs": [],
   "source": [
    "starting = '2015-01-01'\n",
    "ending = '2022-12-31'\n",
    "\n",
    "data = ee.ImageCollection(\n",
    "    'COPERNICUS/S3/OLCI').filterDate(starting, ending).filterBounds(vectors)\n",
    "\n",
    "rgb = data.select(['Oa08_radiance', 'Oa06_radiance', 'Oa04_radiance'])\\\n",
    "    .median().multiply(ee.Image([0.00876539, 0.0123538, 0.0115198])).clip(vectors)"
   ]
  },
  {
   "cell_type": "code",
   "execution_count": 6,
   "metadata": {},
   "outputs": [],
   "source": [
    "latlon = ee.Image.pixelLonLat().addBands(dissolvedoxygen)\n",
    "\n",
    "latlon = latlon.reduceRegion(\n",
    "    reducer=ee.Reducer.toList(),\n",
    "    geometry=vectors,\n",
    "    scale=100,\n",
    "    tileScale=16)\n",
    "\n",
    "data_do = np.array((ee.Array(latlon.get(\"dissolvedoxygen\")).getInfo()))"
   ]
  },
  {
   "cell_type": "code",
   "execution_count": 8,
   "metadata": {},
   "outputs": [
    {
     "ename": "EEException",
     "evalue": "User memory limit exceeded.",
     "output_type": "error",
     "traceback": [
      "\u001b[1;31m---------------------------------------------------------------------------\u001b[0m",
      "\u001b[1;31mHttpError\u001b[0m                                 Traceback (most recent call last)",
      "File \u001b[1;32mc:\\Users\\astha\\AppData\\Local\\Programs\\Python\\Python310\\lib\\site-packages\\ee\\data.py:329\u001b[0m, in \u001b[0;36m_execute_cloud_call\u001b[1;34m(call, num_retries)\u001b[0m\n\u001b[0;32m    328\u001b[0m \u001b[39mtry\u001b[39;00m:\n\u001b[1;32m--> 329\u001b[0m   \u001b[39mreturn\u001b[39;00m call\u001b[39m.\u001b[39;49mexecute(num_retries\u001b[39m=\u001b[39;49mnum_retries)\n\u001b[0;32m    330\u001b[0m \u001b[39mexcept\u001b[39;00m googleapiclient\u001b[39m.\u001b[39merrors\u001b[39m.\u001b[39mHttpError \u001b[39mas\u001b[39;00m e:\n",
      "File \u001b[1;32mc:\\Users\\astha\\AppData\\Local\\Programs\\Python\\Python310\\lib\\site-packages\\googleapiclient\\_helpers.py:130\u001b[0m, in \u001b[0;36mpositional.<locals>.positional_decorator.<locals>.positional_wrapper\u001b[1;34m(*args, **kwargs)\u001b[0m\n\u001b[0;32m    129\u001b[0m         logger\u001b[39m.\u001b[39mwarning(message)\n\u001b[1;32m--> 130\u001b[0m \u001b[39mreturn\u001b[39;00m wrapped(\u001b[39m*\u001b[39margs, \u001b[39m*\u001b[39m\u001b[39m*\u001b[39mkwargs)\n",
      "File \u001b[1;32mc:\\Users\\astha\\AppData\\Local\\Programs\\Python\\Python310\\lib\\site-packages\\googleapiclient\\http.py:938\u001b[0m, in \u001b[0;36mHttpRequest.execute\u001b[1;34m(self, http, num_retries)\u001b[0m\n\u001b[0;32m    937\u001b[0m \u001b[39mif\u001b[39;00m resp\u001b[39m.\u001b[39mstatus \u001b[39m>\u001b[39m\u001b[39m=\u001b[39m \u001b[39m300\u001b[39m:\n\u001b[1;32m--> 938\u001b[0m     \u001b[39mraise\u001b[39;00m HttpError(resp, content, uri\u001b[39m=\u001b[39m\u001b[39mself\u001b[39m\u001b[39m.\u001b[39muri)\n\u001b[0;32m    939\u001b[0m \u001b[39mreturn\u001b[39;00m \u001b[39mself\u001b[39m\u001b[39m.\u001b[39mpostproc(resp, content)\n",
      "\u001b[1;31mHttpError\u001b[0m: <HttpError 400 when requesting https://earthengine.googleapis.com/v1alpha/projects/earthengine-legacy/value:compute?prettyPrint=false&alt=json returned \"User memory limit exceeded.\". Details: \"User memory limit exceeded.\">",
      "\nDuring handling of the above exception, another exception occurred:\n",
      "\u001b[1;31mEEException\u001b[0m                               Traceback (most recent call last)",
      "\u001b[1;32md:\\ML\\Projects\\code_analysis.ipynb Cell 7\u001b[0m in \u001b[0;36m7\n\u001b[0;32m      <a href='vscode-notebook-cell:/d%3A/ML/Projects/code_analysis.ipynb#W6sZmlsZQ%3D%3D?line=0'>1</a>\u001b[0m latlon \u001b[39m=\u001b[39m ee\u001b[39m.\u001b[39mImage\u001b[39m.\u001b[39mpixelLonLat()\u001b[39m.\u001b[39maddBands(phosphate)\n\u001b[0;32m      <a href='vscode-notebook-cell:/d%3A/ML/Projects/code_analysis.ipynb#W6sZmlsZQ%3D%3D?line=2'>3</a>\u001b[0m latlon \u001b[39m=\u001b[39m latlon\u001b[39m.\u001b[39mreduceRegion(\n\u001b[0;32m      <a href='vscode-notebook-cell:/d%3A/ML/Projects/code_analysis.ipynb#W6sZmlsZQ%3D%3D?line=3'>4</a>\u001b[0m     reducer\u001b[39m=\u001b[39mee\u001b[39m.\u001b[39mReducer\u001b[39m.\u001b[39mtoList(),\n\u001b[0;32m      <a href='vscode-notebook-cell:/d%3A/ML/Projects/code_analysis.ipynb#W6sZmlsZQ%3D%3D?line=4'>5</a>\u001b[0m     geometry\u001b[39m=\u001b[39mvectors,\n\u001b[0;32m      <a href='vscode-notebook-cell:/d%3A/ML/Projects/code_analysis.ipynb#W6sZmlsZQ%3D%3D?line=5'>6</a>\u001b[0m     scale\u001b[39m=\u001b[39m\u001b[39m100\u001b[39m)\n\u001b[1;32m----> <a href='vscode-notebook-cell:/d%3A/ML/Projects/code_analysis.ipynb#W6sZmlsZQ%3D%3D?line=6'>7</a>\u001b[0m data_phosphate \u001b[39m=\u001b[39m np\u001b[39m.\u001b[39marray((ee\u001b[39m.\u001b[39;49mArray(latlon\u001b[39m.\u001b[39;49mget(\u001b[39m\"\u001b[39;49m\u001b[39mphosphate\u001b[39;49m\u001b[39m\"\u001b[39;49m))\u001b[39m.\u001b[39;49mgetInfo()))\n",
      "File \u001b[1;32mc:\\Users\\astha\\AppData\\Local\\Programs\\Python\\Python310\\lib\\site-packages\\ee\\computedobject.py:96\u001b[0m, in \u001b[0;36mComputedObject.getInfo\u001b[1;34m(self)\u001b[0m\n\u001b[0;32m     90\u001b[0m \u001b[39mdef\u001b[39;00m \u001b[39mgetInfo\u001b[39m(\u001b[39mself\u001b[39m):\n\u001b[0;32m     91\u001b[0m \u001b[39m  \u001b[39m\u001b[39m\"\"\"Fetch and return information about this object.\u001b[39;00m\n\u001b[0;32m     92\u001b[0m \n\u001b[0;32m     93\u001b[0m \u001b[39m  Returns:\u001b[39;00m\n\u001b[0;32m     94\u001b[0m \u001b[39m    The object can evaluate to anything.\u001b[39;00m\n\u001b[0;32m     95\u001b[0m \u001b[39m  \"\"\"\u001b[39;00m\n\u001b[1;32m---> 96\u001b[0m   \u001b[39mreturn\u001b[39;00m data\u001b[39m.\u001b[39;49mcomputeValue(\u001b[39mself\u001b[39;49m)\n",
      "File \u001b[1;32mc:\\Users\\astha\\AppData\\Local\\Programs\\Python\\Python310\\lib\\site-packages\\ee\\data.py:898\u001b[0m, in \u001b[0;36mcomputeValue\u001b[1;34m(obj)\u001b[0m\n\u001b[0;32m    895\u001b[0m body \u001b[39m=\u001b[39m {\u001b[39m'\u001b[39m\u001b[39mexpression\u001b[39m\u001b[39m'\u001b[39m: serializer\u001b[39m.\u001b[39mencode(obj, for_cloud_api\u001b[39m=\u001b[39m\u001b[39mTrue\u001b[39;00m)}\n\u001b[0;32m    896\u001b[0m _maybe_populate_workload_tag(body)\n\u001b[1;32m--> 898\u001b[0m \u001b[39mreturn\u001b[39;00m _execute_cloud_call(\n\u001b[0;32m    899\u001b[0m     _get_cloud_api_resource()\u001b[39m.\u001b[39;49mprojects()\u001b[39m.\u001b[39;49mvalue()\u001b[39m.\u001b[39;49mcompute(\n\u001b[0;32m    900\u001b[0m         body\u001b[39m=\u001b[39;49mbody,\n\u001b[0;32m    901\u001b[0m         project\u001b[39m=\u001b[39;49m_get_projects_path(),\n\u001b[0;32m    902\u001b[0m         prettyPrint\u001b[39m=\u001b[39;49m\u001b[39mFalse\u001b[39;49;00m))[\u001b[39m'\u001b[39m\u001b[39mresult\u001b[39m\u001b[39m'\u001b[39m]\n",
      "File \u001b[1;32mc:\\Users\\astha\\AppData\\Local\\Programs\\Python\\Python310\\lib\\site-packages\\ee\\data.py:331\u001b[0m, in \u001b[0;36m_execute_cloud_call\u001b[1;34m(call, num_retries)\u001b[0m\n\u001b[0;32m    329\u001b[0m   \u001b[39mreturn\u001b[39;00m call\u001b[39m.\u001b[39mexecute(num_retries\u001b[39m=\u001b[39mnum_retries)\n\u001b[0;32m    330\u001b[0m \u001b[39mexcept\u001b[39;00m googleapiclient\u001b[39m.\u001b[39merrors\u001b[39m.\u001b[39mHttpError \u001b[39mas\u001b[39;00m e:\n\u001b[1;32m--> 331\u001b[0m   \u001b[39mraise\u001b[39;00m _translate_cloud_exception(e)\n",
      "\u001b[1;31mEEException\u001b[0m: User memory limit exceeded."
     ]
    }
   ],
   "source": [
    "latlon = ee.Image.pixelLonLat().addBands(phosphate)\n",
    "\n",
    "latlon = latlon.reduceRegion(\n",
    "    reducer=ee.Reducer.toList(),\n",
    "    geometry=vectors,\n",
    "    scale=100)\n",
    "data_phosphate = np.array((ee.Array(latlon.get(\"phosphate\")).getInfo()))"
   ]
  },
  {
   "cell_type": "code",
   "execution_count": null,
   "metadata": {},
   "outputs": [],
   "source": [
    "df = pd.concat([pd.DataFrame(data_do, columns=['Dissolved Oxygen']),\n",
    "                pd.DataFrame(data_phosphate, columns=['Phosphate'])], axis=1, sort=False)\n"
   ]
  },
  {
   "cell_type": "code",
   "execution_count": null,
   "metadata": {},
   "outputs": [
    {
     "data": {
      "text/html": [
       "<div>\n",
       "<style scoped>\n",
       "    .dataframe tbody tr th:only-of-type {\n",
       "        vertical-align: middle;\n",
       "    }\n",
       "\n",
       "    .dataframe tbody tr th {\n",
       "        vertical-align: top;\n",
       "    }\n",
       "\n",
       "    .dataframe thead th {\n",
       "        text-align: right;\n",
       "    }\n",
       "</style>\n",
       "<table border=\"1\" class=\"dataframe\">\n",
       "  <thead>\n",
       "    <tr style=\"text-align: right;\">\n",
       "      <th></th>\n",
       "      <th>Dissolved Oxygen</th>\n",
       "      <th>Phosphate</th>\n",
       "    </tr>\n",
       "  </thead>\n",
       "  <tbody>\n",
       "    <tr>\n",
       "      <th>0</th>\n",
       "      <td>0.769450</td>\n",
       "      <td>-0.166928</td>\n",
       "    </tr>\n",
       "    <tr>\n",
       "      <th>1</th>\n",
       "      <td>6.565650</td>\n",
       "      <td>-0.257878</td>\n",
       "    </tr>\n",
       "    <tr>\n",
       "      <th>2</th>\n",
       "      <td>7.906200</td>\n",
       "      <td>-0.269373</td>\n",
       "    </tr>\n",
       "    <tr>\n",
       "      <th>3</th>\n",
       "      <td>7.814250</td>\n",
       "      <td>-0.060146</td>\n",
       "    </tr>\n",
       "    <tr>\n",
       "      <th>4</th>\n",
       "      <td>8.037150</td>\n",
       "      <td>-0.065705</td>\n",
       "    </tr>\n",
       "    <tr>\n",
       "      <th>...</th>\n",
       "      <td>...</td>\n",
       "      <td>...</td>\n",
       "    </tr>\n",
       "    <tr>\n",
       "      <th>13279</th>\n",
       "      <td>0.258408</td>\n",
       "      <td>-0.089534</td>\n",
       "    </tr>\n",
       "    <tr>\n",
       "      <th>13280</th>\n",
       "      <td>5.248033</td>\n",
       "      <td>-0.109141</td>\n",
       "    </tr>\n",
       "    <tr>\n",
       "      <th>13281</th>\n",
       "      <td>10.250499</td>\n",
       "      <td>-0.111274</td>\n",
       "    </tr>\n",
       "    <tr>\n",
       "      <th>13282</th>\n",
       "      <td>6.282130</td>\n",
       "      <td>-0.125063</td>\n",
       "    </tr>\n",
       "    <tr>\n",
       "      <th>13283</th>\n",
       "      <td>9.336887</td>\n",
       "      <td>-0.129766</td>\n",
       "    </tr>\n",
       "  </tbody>\n",
       "</table>\n",
       "<p>13284 rows × 2 columns</p>\n",
       "</div>"
      ],
      "text/plain": [
       "       Dissolved Oxygen  Phosphate\n",
       "0              0.769450  -0.166928\n",
       "1              6.565650  -0.257878\n",
       "2              7.906200  -0.269373\n",
       "3              7.814250  -0.060146\n",
       "4              8.037150  -0.065705\n",
       "...                 ...        ...\n",
       "13279          0.258408  -0.089534\n",
       "13280          5.248033  -0.109141\n",
       "13281         10.250499  -0.111274\n",
       "13282          6.282130  -0.125063\n",
       "13283          9.336887  -0.129766\n",
       "\n",
       "[13284 rows x 2 columns]"
      ]
     },
     "execution_count": 9,
     "metadata": {},
     "output_type": "execute_result"
    }
   ],
   "source": [
    "df"
   ]
  },
  {
   "cell_type": "code",
   "execution_count": null,
   "metadata": {},
   "outputs": [],
   "source": []
  }
 ],
 "metadata": {
  "kernelspec": {
   "display_name": "Python 3",
   "language": "python",
   "name": "python3"
  },
  "language_info": {
   "codemirror_mode": {
    "name": "ipython",
    "version": 3
   },
   "file_extension": ".py",
   "mimetype": "text/x-python",
   "name": "python",
   "nbconvert_exporter": "python",
   "pygments_lexer": "ipython3",
   "version": "3.10.2"
  },
  "orig_nbformat": 4
 },
 "nbformat": 4,
 "nbformat_minor": 2
}
