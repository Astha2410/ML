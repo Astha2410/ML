{
  "cells": [
    {
      "cell_type": "code",
      "execution_count": 1,
      "metadata": {
        "id": "L5RHI156-0DL"
      },
      "outputs": [],
      "source": [
        "import ee, datetime\n",
        "import pandas as pd\n",
        "import numpy as np\n",
        "import folium\n",
        "import geehydro\n",
        "import datetime as dt\n",
        "import IPython.display\n"
      ]
    },
    {
      "cell_type": "code",
      "execution_count": 2,
      "metadata": {
        "colab": {
          "base_uri": "https://localhost:8080/"
        },
        "id": "kN493at7Dnyr",
        "outputId": "d6295a40-b77c-41dd-e9ab-ab82cc499f5c"
      },
      "outputs": [
        {
          "data": {
            "text/html": [
              "<p>To authorize access needed by Earth Engine, open the following\n",
              "        URL in a web browser and follow the instructions:</p>\n",
              "        <p><a href=https://code.earthengine.google.com/client-auth?scopes=https%3A//www.googleapis.com/auth/earthengine%20https%3A//www.googleapis.com/auth/devstorage.full_control&request_id=A-lIdl4OOW8F7UqYysrU5GpPUTyeLe4zBKgY54qX9Lk&tc=LQYXv3mSmntIY-EZJwn6HMPvQBNw7I6e2fm5_4MD94U&cc=1ga7AY_JDk8iGHZ5fnRmDEQonM0I-dRhgEfdMa2J2CY>https://code.earthengine.google.com/client-auth?scopes=https%3A//www.googleapis.com/auth/earthengine%20https%3A//www.googleapis.com/auth/devstorage.full_control&request_id=A-lIdl4OOW8F7UqYysrU5GpPUTyeLe4zBKgY54qX9Lk&tc=LQYXv3mSmntIY-EZJwn6HMPvQBNw7I6e2fm5_4MD94U&cc=1ga7AY_JDk8iGHZ5fnRmDEQonM0I-dRhgEfdMa2J2CY</a></p>\n",
              "        <p>The authorization workflow will generate a code, which you should paste in the box below.</p>\n",
              "        "
            ],
            "text/plain": [
              "<IPython.core.display.HTML object>"
            ]
          },
          "metadata": {},
          "output_type": "display_data"
        },
        {
          "name": "stdout",
          "output_type": "stream",
          "text": [
            "\n",
            "Successfully saved authorization token.\n"
          ]
        }
      ],
      "source": [
        "\n",
        "ee.Authenticate()\n",
        "ee.Initialize()"
      ]
    },
    {
      "cell_type": "markdown",
      "metadata": {
        "id": "RQVXfObbAJPK"
      },
      "source": [
        "Selecting the area of Interest"
      ]
    },
    {
      "cell_type": "code",
      "execution_count": 3,
      "metadata": {
        "id": "kOT2BD9HAMkr"
      },
      "outputs": [],
      "source": [
        "lower_Lake = folium.Map(location=[23.248905930238088, 77.4059219962347], zoom_start=10)\n"
      ]
    },
    {
      "cell_type": "code",
      "execution_count": 4,
      "metadata": {
        "colab": {
          "base_uri": "https://localhost:8080/",
          "height": 727
        },
        "id": "Szy5CbppAeF1",
        "outputId": "96105229-6c4a-4c3d-8ef3-ed1fd5ef9095"
      },
      "outputs": [
        {
          "data": {
            "text/html": [
              "<div style=\"width:100%;\"><div style=\"position:relative;width:100%;height:0;padding-bottom:60%;\"><span style=\"color:#565656\">Make this Notebook Trusted to load map: File -> Trust Notebook</span><iframe srcdoc=\"&lt;!DOCTYPE html&gt;\n",
              "&lt;html&gt;\n",
              "&lt;head&gt;\n",
              "    \n",
              "    &lt;meta http-equiv=&quot;content-type&quot; content=&quot;text/html; charset=UTF-8&quot; /&gt;\n",
              "    \n",
              "        &lt;script&gt;\n",
              "            L_NO_TOUCH = false;\n",
              "            L_DISABLE_3D = false;\n",
              "        &lt;/script&gt;\n",
              "    \n",
              "    &lt;style&gt;html, body {width: 100%;height: 100%;margin: 0;padding: 0;}&lt;/style&gt;\n",
              "    &lt;style&gt;#map {position:absolute;top:0;bottom:0;right:0;left:0;}&lt;/style&gt;\n",
              "    &lt;script src=&quot;https://cdn.jsdelivr.net/npm/leaflet@1.9.3/dist/leaflet.js&quot;&gt;&lt;/script&gt;\n",
              "    &lt;script src=&quot;https://code.jquery.com/jquery-1.12.4.min.js&quot;&gt;&lt;/script&gt;\n",
              "    &lt;script src=&quot;https://cdn.jsdelivr.net/npm/bootstrap@5.2.2/dist/js/bootstrap.bundle.min.js&quot;&gt;&lt;/script&gt;\n",
              "    &lt;script src=&quot;https://cdnjs.cloudflare.com/ajax/libs/Leaflet.awesome-markers/2.0.2/leaflet.awesome-markers.js&quot;&gt;&lt;/script&gt;\n",
              "    &lt;link rel=&quot;stylesheet&quot; href=&quot;https://cdn.jsdelivr.net/npm/leaflet@1.9.3/dist/leaflet.css&quot;/&gt;\n",
              "    &lt;link rel=&quot;stylesheet&quot; href=&quot;https://cdn.jsdelivr.net/npm/bootstrap@5.2.2/dist/css/bootstrap.min.css&quot;/&gt;\n",
              "    &lt;link rel=&quot;stylesheet&quot; href=&quot;https://netdna.bootstrapcdn.com/bootstrap/3.0.0/css/bootstrap.min.css&quot;/&gt;\n",
              "    &lt;link rel=&quot;stylesheet&quot; href=&quot;https://cdn.jsdelivr.net/npm/@fortawesome/fontawesome-free@6.2.0/css/all.min.css&quot;/&gt;\n",
              "    &lt;link rel=&quot;stylesheet&quot; href=&quot;https://cdnjs.cloudflare.com/ajax/libs/Leaflet.awesome-markers/2.0.2/leaflet.awesome-markers.css&quot;/&gt;\n",
              "    &lt;link rel=&quot;stylesheet&quot; href=&quot;https://cdn.jsdelivr.net/gh/python-visualization/folium/folium/templates/leaflet.awesome.rotate.min.css&quot;/&gt;\n",
              "    \n",
              "            &lt;meta name=&quot;viewport&quot; content=&quot;width=device-width,\n",
              "                initial-scale=1.0, maximum-scale=1.0, user-scalable=no&quot; /&gt;\n",
              "            &lt;style&gt;\n",
              "                #map_b22359eace8ee824c3ac26aab3685456 {\n",
              "                    position: relative;\n",
              "                    width: 100.0%;\n",
              "                    height: 100.0%;\n",
              "                    left: 0.0%;\n",
              "                    top: 0.0%;\n",
              "                }\n",
              "                .leaflet-container { font-size: 1rem; }\n",
              "            &lt;/style&gt;\n",
              "        \n",
              "&lt;/head&gt;\n",
              "&lt;body&gt;\n",
              "    \n",
              "    \n",
              "            &lt;div class=&quot;folium-map&quot; id=&quot;map_b22359eace8ee824c3ac26aab3685456&quot; &gt;&lt;/div&gt;\n",
              "        \n",
              "&lt;/body&gt;\n",
              "&lt;script&gt;\n",
              "    \n",
              "    \n",
              "            var map_b22359eace8ee824c3ac26aab3685456 = L.map(\n",
              "                &quot;map_b22359eace8ee824c3ac26aab3685456&quot;,\n",
              "                {\n",
              "                    center: [23.248905930238088, 77.4059219962347],\n",
              "                    crs: L.CRS.EPSG3857,\n",
              "                    zoom: 10,\n",
              "                    zoomControl: true,\n",
              "                    preferCanvas: false,\n",
              "                }\n",
              "            );\n",
              "\n",
              "            \n",
              "\n",
              "        \n",
              "    \n",
              "            var tile_layer_37520d8c5c685d4c6f76daa6a4e25801 = L.tileLayer(\n",
              "                &quot;https://{s}.tile.openstreetmap.org/{z}/{x}/{y}.png&quot;,\n",
              "                {&quot;attribution&quot;: &quot;Data by \\u0026copy; \\u003ca target=\\&quot;_blank\\&quot; href=\\&quot;http://openstreetmap.org\\&quot;\\u003eOpenStreetMap\\u003c/a\\u003e, under \\u003ca target=\\&quot;_blank\\&quot; href=\\&quot;http://www.openstreetmap.org/copyright\\&quot;\\u003eODbL\\u003c/a\\u003e.&quot;, &quot;detectRetina&quot;: false, &quot;maxNativeZoom&quot;: 18, &quot;maxZoom&quot;: 18, &quot;minZoom&quot;: 0, &quot;noWrap&quot;: false, &quot;opacity&quot;: 1, &quot;subdomains&quot;: &quot;abc&quot;, &quot;tms&quot;: false}\n",
              "            ).addTo(map_b22359eace8ee824c3ac26aab3685456);\n",
              "        \n",
              "&lt;/script&gt;\n",
              "&lt;/html&gt;\" style=\"position:absolute;width:100%;height:100%;left:0;top:0;border:none !important;\" allowfullscreen webkitallowfullscreen mozallowfullscreen></iframe></div></div>"
            ],
            "text/plain": [
              "<folium.folium.Map at 0x23755f28d30>"
            ]
          },
          "execution_count": 4,
          "metadata": {},
          "output_type": "execute_result"
        }
      ],
      "source": [
        "lower_Lake"
      ]
    },
    {
      "cell_type": "markdown",
      "metadata": {
        "id": "3bRAxN2PEMHa"
      },
      "source": [
        "Selecting the satellite and AOI"
      ]
    },
    {
      "cell_type": "code",
      "execution_count": 5,
      "metadata": {
        "id": "VEZt1YiwB7KL"
      },
      "outputs": [],
      "source": [
        "sentinel = ee.ImageCollection(\"COPERNICUS/S2_SR\").\\\n",
        "               filter(ee.Filter.lt('CLOUDY_PIXEL_PERCENTAGE',20)).\\\n",
        "               filterDate(\"2015-01-01\",\"2023-01-01\")\n",
        "lower_Lake_AOI = ee.Geometry.Polygon([[[77.40540829355803,23.250265289120904],[77.40497914011564,23.250107568377107],[77.40454998667326,23.24987098691169],[77.40394917185392,23.249397822721765],[77.40296211893644,23.249634405026583],[77.40188923533049,23.250068138162035],[77.40124550516691,23.25014699858056],[77.40030136759368,23.25006813816203],[77.39922848398771,23.250738450233026],[77.39828434641447,23.250975030159537],[77.3976406162509,23.25046243978831],[77.39802685434904,23.249910417185077],[77.39879933054533,23.249358392296827],[77.39957180674162,23.249042948477634],[77.40017262156096,23.248688073289212],[77.40068760569181,23.248490919998734],[77.40128842051116,23.248057181733795],[77.40214672739592,23.247584011108767],[77.40261879618254,23.247307994135603],[77.40334835703459,23.247071407703988],[77.40407791788664,23.2469136831831],[77.4051508014926,23.246598233581782],[77.40480747873869,23.245888469251092],[77.40429249460783,23.245415290932417],[77.40356293375578,23.245060406091877],[77.40274754221525,23.244390065483675],[77.40214672739592,23.244035177915574],[77.40150299723234,23.24344369653732],[77.40154591257658,23.242852212536526],[77.40227547342865,23.243049374161522],[77.40283337290373,23.243443696537323],[77.40334835703459,23.24360142516129],[77.40407791788664,23.24387744980447],[77.40472164805021,23.244390065483675],[77.40523663218109,23.244666088495027],[77.40588036234465,23.24490267919301],[77.40635243113127,23.24569131182231],[77.40738239939299,23.246203920530995],[77.40798321421232,23.246203920530995],[77.40849819834318,23.24608562638846],[77.40858402903166,23.247426287194042],[77.40901318247404,23.248214904902426],[77.40944233591642,23.248964087406257],[77.41000023539152,23.25006813816203],[77.41072979624357,23.250608695872465],[77.41012898142424,23.250805846032197],[77.41060105021086,23.25139729476258],[77.41111603434172,23.25171273301285],[77.4121030872592,23.251633873520237],[77.41287556345549,23.25151558419388],[77.41381970102873,23.251160715585222],[77.41377678568449,23.25147615439511],[77.41364803965178,23.252028170516947],[77.41326180155363,23.252580184353608],[77.4126609867343,23.252974478552105],[77.41177199151964,23.253329342333874],[77.41155741479845,23.25376306345126],[77.41108534601183,23.25407849610504],[77.41065619256945,23.25415735415188],[77.40958330896349,23.254630501453526],[77.4090254094884,23.25447278587288],[77.40889666345568,23.254196783157816],[77.40859625604601,23.253684205171215],[77.40812418725939,23.253171625214122],[77.40773794916124,23.252737902172907],[77.40726588037462,23.252383036817132],[77.40675089624376,23.25194931121088],[77.40615008142443,23.251633873520237],[77.40567801263781,23.251279005226362],[77.40584967401476,23.250529835726965],[77.40540829355803,23.250265289120904]]])\n",
        "\n",
        "sentinel_AOI = sentinel.filterBounds(lower_Lake_AOI)\n",
        "               "
      ]
    },
    {
      "cell_type": "markdown",
      "metadata": {
        "id": "b96mrbrdEG2y"
      },
      "source": [
        "Total Number of Images in Image Collection"
      ]
    },
    {
      "cell_type": "code",
      "execution_count": 6,
      "metadata": {
        "colab": {
          "base_uri": "https://localhost:8080/"
        },
        "id": "mfaFFbuGDf8O",
        "outputId": "75a749eb-b6aa-4e8f-90c0-569393ab9508"
      },
      "outputs": [
        {
          "name": "stdout",
          "output_type": "stream",
          "text": [
            "Total number of images : 166\n"
          ]
        }
      ],
      "source": [
        "print('Total number of images :', sentinel_AOI.size().getInfo())"
      ]
    },
    {
      "attachments": {},
      "cell_type": "markdown",
      "metadata": {
        "id": "pLgMAHqKF-4S"
      },
      "source": [
        "# *NDCI Calculation*"
      ]
    },
    {
      "cell_type": "code",
      "execution_count": 7,
      "metadata": {
        "id": "BKwneNTJGAs0"
      },
      "outputs": [],
      "source": [
        "def calculate_NDCI(image):\n",
        "  ndci = image.normalizedDifference(['B5', 'B4']).rename('NDCI')\n",
        "  return image.addBands(ndci)\n",
        "ndci = sentinel_AOI.map(calculate_NDCI)  "
      ]
    },
    {
      "attachments": {},
      "cell_type": "markdown",
      "metadata": {
        "id": "6vGU8v6mGZkf"
      },
      "source": [
        "*Calculating mean of NDCI on every image present in the image collection*"
      ]
    },
    {
      "cell_type": "code",
      "execution_count": 8,
      "metadata": {
        "id": "aXKFDr9zGgvn"
      },
      "outputs": [],
      "source": [
        "def calculate_mean_NDCI(image):\n",
        "  image = ee.Image(image)\n",
        "  mean = image.reduceRegion(reducer = ee.Reducer.mean().setOutputs(['NDCI']),\n",
        "                           geometry = lower_Lake_AOI,\n",
        "                           scale = image.projection().nominalScale().getInfo(),\n",
        "                           maxPixels = 100000,\n",
        "                           bestEffort = True);\n",
        "  return mean.get('NDCI').getInfo()"
      ]
    },
    {
      "cell_type": "code",
      "execution_count": 9,
      "metadata": {
        "id": "UyBDdVnrHRkF"
      },
      "outputs": [],
      "source": [
        "Images_ndci = ndci.select('NDCI').toList(ndci.size())\n",
        "ndci_coll = []\n",
        "for i in range(Images_ndci.length().getInfo()):\n",
        "  image = ee.Image(Images_ndci.get(i-1))\n",
        "  temp_ndci = calculate_mean_NDCI(image)\n",
        "  ndci_coll.append(temp_ndci)"
      ]
    },
    {
      "attachments": {},
      "cell_type": "markdown",
      "metadata": {
        "id": "PAPzIwOlKJEy"
      },
      "source": [
        "*fetching Dates from the Image Collection*\n"
      ]
    },
    {
      "cell_type": "code",
      "execution_count": 10,
      "metadata": {
        "id": "ZF9sOE_vKNIO"
      },
      "outputs": [],
      "source": [
        "dates = np.array(ndci.aggregate_array(\"system:time_start\").getInfo())\n",
        "day = [datetime.datetime.fromtimestamp(i/1000).strftime('%Y-%m-%d') for i in (dates)]"
      ]
    },
    {
      "cell_type": "markdown",
      "metadata": {
        "id": "qs1mtWfkKr7g"
      },
      "source": [
        "Creating the Dataframe"
      ]
    },
    {
      "cell_type": "code",
      "execution_count": 11,
      "metadata": {
        "id": "bzqkW-blK-bq"
      },
      "outputs": [],
      "source": [
        "df = pd.DataFrame(ndci_coll, index = day, columns = ['Chlorophyll'])\n",
        "df.index = pd.to_datetime(df.index, format=\"%Y/%m/%d\")\n",
        "df.sort_index(ascending = True, inplace = True)"
      ]
    },
    {
      "cell_type": "code",
      "execution_count": 12,
      "metadata": {
        "colab": {
          "base_uri": "https://localhost:8080/",
          "height": 423
        },
        "id": "rt3YUxSXLICd",
        "outputId": "cc9d35a6-35d4-4ef8-a0ad-8b9e768aeb7c"
      },
      "outputs": [
        {
          "data": {
            "text/html": [
              "<div>\n",
              "<style scoped>\n",
              "    .dataframe tbody tr th:only-of-type {\n",
              "        vertical-align: middle;\n",
              "    }\n",
              "\n",
              "    .dataframe tbody tr th {\n",
              "        vertical-align: top;\n",
              "    }\n",
              "\n",
              "    .dataframe thead th {\n",
              "        text-align: right;\n",
              "    }\n",
              "</style>\n",
              "<table border=\"1\" class=\"dataframe\">\n",
              "  <thead>\n",
              "    <tr style=\"text-align: right;\">\n",
              "      <th></th>\n",
              "      <th>Chlorophyll</th>\n",
              "    </tr>\n",
              "  </thead>\n",
              "  <tbody>\n",
              "    <tr>\n",
              "      <th>2018-12-18</th>\n",
              "      <td>0.040679</td>\n",
              "    </tr>\n",
              "    <tr>\n",
              "      <th>2018-12-23</th>\n",
              "      <td>0.068569</td>\n",
              "    </tr>\n",
              "    <tr>\n",
              "      <th>2018-12-28</th>\n",
              "      <td>0.192236</td>\n",
              "    </tr>\n",
              "    <tr>\n",
              "      <th>2019-01-02</th>\n",
              "      <td>0.133367</td>\n",
              "    </tr>\n",
              "    <tr>\n",
              "      <th>2019-01-07</th>\n",
              "      <td>0.078596</td>\n",
              "    </tr>\n",
              "    <tr>\n",
              "      <th>...</th>\n",
              "      <td>...</td>\n",
              "    </tr>\n",
              "    <tr>\n",
              "      <th>2022-12-02</th>\n",
              "      <td>0.032937</td>\n",
              "    </tr>\n",
              "    <tr>\n",
              "      <th>2022-12-07</th>\n",
              "      <td>0.037135</td>\n",
              "    </tr>\n",
              "    <tr>\n",
              "      <th>2022-12-17</th>\n",
              "      <td>0.041873</td>\n",
              "    </tr>\n",
              "    <tr>\n",
              "      <th>2022-12-22</th>\n",
              "      <td>0.055047</td>\n",
              "    </tr>\n",
              "    <tr>\n",
              "      <th>2022-12-27</th>\n",
              "      <td>0.038987</td>\n",
              "    </tr>\n",
              "  </tbody>\n",
              "</table>\n",
              "<p>166 rows × 1 columns</p>\n",
              "</div>"
            ],
            "text/plain": [
              "            Chlorophyll\n",
              "2018-12-18     0.040679\n",
              "2018-12-23     0.068569\n",
              "2018-12-28     0.192236\n",
              "2019-01-02     0.133367\n",
              "2019-01-07     0.078596\n",
              "...                 ...\n",
              "2022-12-02     0.032937\n",
              "2022-12-07     0.037135\n",
              "2022-12-17     0.041873\n",
              "2022-12-22     0.055047\n",
              "2022-12-27     0.038987\n",
              "\n",
              "[166 rows x 1 columns]"
            ]
          },
          "execution_count": 12,
          "metadata": {},
          "output_type": "execute_result"
        }
      ],
      "source": [
        "df"
      ]
    },
    {
      "cell_type": "code",
      "execution_count": 13,
      "metadata": {
        "id": "Cq20Z-Yr2sIy"
      },
      "outputs": [],
      "source": [
        "df.to_csv('Chlorophyll.csv')"
      ]
    },
    {
      "attachments": {},
      "cell_type": "markdown",
      "metadata": {
        "id": "RiteokNeMxS5"
      },
      "source": [
        "## **Calculating NDTI**"
      ]
    },
    {
      "cell_type": "code",
      "execution_count": 14,
      "metadata": {
        "id": "YwkXL8qTLIvS"
      },
      "outputs": [],
      "source": [
        "def calculate_NDTI(image):\n",
        "  ndti = image.normalizedDifference(['B4', 'B3']).rename('NDTI')\n",
        "  return image.addBands(ndti)\n",
        "ndti = sentinel_AOI.map(calculate_NDTI)"
      ]
    },
    {
      "cell_type": "code",
      "execution_count": 15,
      "metadata": {
        "id": "8z6d_MdSMtZ5"
      },
      "outputs": [],
      "source": [
        "def calculate_mean_NDTI(image):\n",
        "  image = ee.Image(image)\n",
        "  mean = image.reduceRegion(reducer = ee.Reducer.mean().setOutputs(['NDTI']),\n",
        "                           geometry = lower_Lake_AOI,\n",
        "                           scale = image.projection().nominalScale().getInfo(),\n",
        "                           maxPixels = 100000,\n",
        "                           bestEffort = True);\n",
        "  return mean.get('NDTI').getInfo()"
      ]
    },
    {
      "cell_type": "code",
      "execution_count": 16,
      "metadata": {
        "id": "NfLrv-jiNGUu"
      },
      "outputs": [],
      "source": [
        "Images_ndti = ndti.select('NDTI').toList(ndti.size())\n",
        "ndti_coll = []\n",
        "for i in range(Images_ndti.length().getInfo()):\n",
        "  image = ee.Image(Images_ndti.get(i-1))\n",
        "  temp_ndti = calculate_mean_NDTI(image)\n",
        "  ndti_coll.append(temp_ndti)"
      ]
    },
    {
      "cell_type": "code",
      "execution_count": 17,
      "metadata": {
        "id": "iNOjW_gNNVl8"
      },
      "outputs": [],
      "source": [
        "dates = np.array(ndti.aggregate_array(\"system:time_start\").getInfo())\n",
        "day = [datetime.datetime.fromtimestamp(i/1000).strftime('%Y-%m-%d') for i in (dates)]"
      ]
    },
    {
      "cell_type": "code",
      "execution_count": 18,
      "metadata": {
        "id": "fxtKVdovOgJY"
      },
      "outputs": [],
      "source": [
        "df1 = pd.DataFrame(ndti_coll, index = day, columns = ['Turbidity'])\n",
        "df1.index = pd.to_datetime(df1.index, format=\"%Y/%m/%d\")\n",
        "df1.sort_index(ascending = True, inplace = True)"
      ]
    },
    {
      "cell_type": "code",
      "execution_count": 19,
      "metadata": {
        "colab": {
          "base_uri": "https://localhost:8080/",
          "height": 423
        },
        "id": "VOENs_fzOkrD",
        "outputId": "753441ec-ebe0-45d3-ca24-5fcb306aacb7"
      },
      "outputs": [
        {
          "data": {
            "text/html": [
              "<div>\n",
              "<style scoped>\n",
              "    .dataframe tbody tr th:only-of-type {\n",
              "        vertical-align: middle;\n",
              "    }\n",
              "\n",
              "    .dataframe tbody tr th {\n",
              "        vertical-align: top;\n",
              "    }\n",
              "\n",
              "    .dataframe thead th {\n",
              "        text-align: right;\n",
              "    }\n",
              "</style>\n",
              "<table border=\"1\" class=\"dataframe\">\n",
              "  <thead>\n",
              "    <tr style=\"text-align: right;\">\n",
              "      <th></th>\n",
              "      <th>Turbidity</th>\n",
              "    </tr>\n",
              "  </thead>\n",
              "  <tbody>\n",
              "    <tr>\n",
              "      <th>2018-12-18</th>\n",
              "      <td>-0.007191</td>\n",
              "    </tr>\n",
              "    <tr>\n",
              "      <th>2018-12-23</th>\n",
              "      <td>-0.111245</td>\n",
              "    </tr>\n",
              "    <tr>\n",
              "      <th>2018-12-28</th>\n",
              "      <td>-0.187315</td>\n",
              "    </tr>\n",
              "    <tr>\n",
              "      <th>2019-01-02</th>\n",
              "      <td>-0.150592</td>\n",
              "    </tr>\n",
              "    <tr>\n",
              "      <th>2019-01-07</th>\n",
              "      <td>-0.153835</td>\n",
              "    </tr>\n",
              "    <tr>\n",
              "      <th>...</th>\n",
              "      <td>...</td>\n",
              "    </tr>\n",
              "    <tr>\n",
              "      <th>2022-12-02</th>\n",
              "      <td>-0.013329</td>\n",
              "    </tr>\n",
              "    <tr>\n",
              "      <th>2022-12-07</th>\n",
              "      <td>-0.016475</td>\n",
              "    </tr>\n",
              "    <tr>\n",
              "      <th>2022-12-17</th>\n",
              "      <td>-0.006209</td>\n",
              "    </tr>\n",
              "    <tr>\n",
              "      <th>2022-12-22</th>\n",
              "      <td>-0.010468</td>\n",
              "    </tr>\n",
              "    <tr>\n",
              "      <th>2022-12-27</th>\n",
              "      <td>-0.025638</td>\n",
              "    </tr>\n",
              "  </tbody>\n",
              "</table>\n",
              "<p>166 rows × 1 columns</p>\n",
              "</div>"
            ],
            "text/plain": [
              "            Turbidity\n",
              "2018-12-18  -0.007191\n",
              "2018-12-23  -0.111245\n",
              "2018-12-28  -0.187315\n",
              "2019-01-02  -0.150592\n",
              "2019-01-07  -0.153835\n",
              "...               ...\n",
              "2022-12-02  -0.013329\n",
              "2022-12-07  -0.016475\n",
              "2022-12-17  -0.006209\n",
              "2022-12-22  -0.010468\n",
              "2022-12-27  -0.025638\n",
              "\n",
              "[166 rows x 1 columns]"
            ]
          },
          "execution_count": 19,
          "metadata": {},
          "output_type": "execute_result"
        }
      ],
      "source": [
        "df1"
      ]
    },
    {
      "cell_type": "code",
      "execution_count": 20,
      "metadata": {
        "id": "ss-vvrnr3037"
      },
      "outputs": [],
      "source": [
        "df1.to_csv('Turbidity.csv')"
      ]
    },
    {
      "attachments": {},
      "cell_type": "markdown",
      "metadata": {
        "id": "kP3AI8BhQVBb"
      },
      "source": [
        "## ** Calculating NDSI**"
      ]
    },
    {
      "cell_type": "code",
      "execution_count": 21,
      "metadata": {
        "id": "xFrSRTjmQWNN"
      },
      "outputs": [],
      "source": [
        "def calculate_NDSI(image):\n",
        "  ndsi = image.normalizedDifference(['B11', 'B12']).rename('NDSI')\n",
        "  return image.addBands(ndsi)\n",
        "ndsi = sentinel_AOI.map(calculate_NDSI)"
      ]
    },
    {
      "cell_type": "code",
      "execution_count": 22,
      "metadata": {
        "id": "-NB5xGu4QrDz"
      },
      "outputs": [],
      "source": [
        "def calculate_mean_NDSI(image):\n",
        "  image = ee.Image(image)\n",
        "  mean = image.reduceRegion(reducer = ee.Reducer.mean().setOutputs(['NDSI']),\n",
        "                           geometry = lower_Lake_AOI,\n",
        "                           scale = image.projection().nominalScale().getInfo(),\n",
        "                           maxPixels = 100000,\n",
        "                           bestEffort = True);\n",
        "  return mean.get('NDSI').getInfo()"
      ]
    },
    {
      "cell_type": "code",
      "execution_count": 23,
      "metadata": {
        "id": "IYlsHYXLQxtT"
      },
      "outputs": [],
      "source": [
        "Images_ndsi = ndsi.select('NDSI').toList(ndsi.size())\n",
        "ndsi_coll = []\n",
        "for i in range(Images_ndsi.length().getInfo()):\n",
        "  image = ee.Image(Images_ndsi.get(i-1))\n",
        "  temp_ndsi = calculate_mean_NDSI(image)\n",
        "  ndsi_coll.append(temp_ndsi)"
      ]
    },
    {
      "cell_type": "code",
      "execution_count": 24,
      "metadata": {
        "id": "p6ztIC30RYwX"
      },
      "outputs": [],
      "source": [
        "dates = np.array(ndsi.aggregate_array(\"system:time_start\").getInfo())\n",
        "day = [datetime.datetime.fromtimestamp(i/1000).strftime('%Y-%m-%d') for i in (dates)]"
      ]
    },
    {
      "cell_type": "code",
      "execution_count": 25,
      "metadata": {
        "id": "wYyA6NtURN0k"
      },
      "outputs": [],
      "source": [
        "df2 = pd.DataFrame(ndsi_coll, index = day, columns = ['Salinty'])\n",
        "df2.index = pd.to_datetime(df2.index, format=\"%Y/%m/%d\")\n",
        "df2.sort_index(ascending = True, inplace = True)"
      ]
    },
    {
      "cell_type": "code",
      "execution_count": 26,
      "metadata": {
        "colab": {
          "base_uri": "https://localhost:8080/",
          "height": 423
        },
        "id": "1Xpl3qh8Sg-C",
        "outputId": "a2841b82-53e7-4eee-a559-3005e8324e72"
      },
      "outputs": [
        {
          "data": {
            "text/html": [
              "<div>\n",
              "<style scoped>\n",
              "    .dataframe tbody tr th:only-of-type {\n",
              "        vertical-align: middle;\n",
              "    }\n",
              "\n",
              "    .dataframe tbody tr th {\n",
              "        vertical-align: top;\n",
              "    }\n",
              "\n",
              "    .dataframe thead th {\n",
              "        text-align: right;\n",
              "    }\n",
              "</style>\n",
              "<table border=\"1\" class=\"dataframe\">\n",
              "  <thead>\n",
              "    <tr style=\"text-align: right;\">\n",
              "      <th></th>\n",
              "      <th>Salinty</th>\n",
              "    </tr>\n",
              "  </thead>\n",
              "  <tbody>\n",
              "    <tr>\n",
              "      <th>2018-12-18</th>\n",
              "      <td>0.032208</td>\n",
              "    </tr>\n",
              "    <tr>\n",
              "      <th>2018-12-23</th>\n",
              "      <td>0.177992</td>\n",
              "    </tr>\n",
              "    <tr>\n",
              "      <th>2018-12-28</th>\n",
              "      <td>0.040495</td>\n",
              "    </tr>\n",
              "    <tr>\n",
              "      <th>2019-01-02</th>\n",
              "      <td>0.093497</td>\n",
              "    </tr>\n",
              "    <tr>\n",
              "      <th>2019-01-07</th>\n",
              "      <td>0.064393</td>\n",
              "    </tr>\n",
              "    <tr>\n",
              "      <th>...</th>\n",
              "      <td>...</td>\n",
              "    </tr>\n",
              "    <tr>\n",
              "      <th>2022-12-02</th>\n",
              "      <td>0.014207</td>\n",
              "    </tr>\n",
              "    <tr>\n",
              "      <th>2022-12-07</th>\n",
              "      <td>0.011204</td>\n",
              "    </tr>\n",
              "    <tr>\n",
              "      <th>2022-12-17</th>\n",
              "      <td>0.011836</td>\n",
              "    </tr>\n",
              "    <tr>\n",
              "      <th>2022-12-22</th>\n",
              "      <td>0.012525</td>\n",
              "    </tr>\n",
              "    <tr>\n",
              "      <th>2022-12-27</th>\n",
              "      <td>0.008844</td>\n",
              "    </tr>\n",
              "  </tbody>\n",
              "</table>\n",
              "<p>166 rows × 1 columns</p>\n",
              "</div>"
            ],
            "text/plain": [
              "             Salinty\n",
              "2018-12-18  0.032208\n",
              "2018-12-23  0.177992\n",
              "2018-12-28  0.040495\n",
              "2019-01-02  0.093497\n",
              "2019-01-07  0.064393\n",
              "...              ...\n",
              "2022-12-02  0.014207\n",
              "2022-12-07  0.011204\n",
              "2022-12-17  0.011836\n",
              "2022-12-22  0.012525\n",
              "2022-12-27  0.008844\n",
              "\n",
              "[166 rows x 1 columns]"
            ]
          },
          "execution_count": 26,
          "metadata": {},
          "output_type": "execute_result"
        }
      ],
      "source": [
        "df2"
      ]
    },
    {
      "cell_type": "code",
      "execution_count": 27,
      "metadata": {
        "id": "peJL79O46_oi"
      },
      "outputs": [],
      "source": [
        "df2.to_csv('Salinty.csv')"
      ]
    },
    {
      "attachments": {},
      "cell_type": "markdown",
      "metadata": {
        "id": "ox-1424nXqak"
      },
      "source": [
        " *Dissloved Oxygen Calculation*"
      ]
    },
    {
      "cell_type": "code",
      "execution_count": 28,
      "metadata": {
        "id": "72r3aemuYoP8"
      },
      "outputs": [],
      "source": [
        "def calculate_DO(image):\n",
        "  do = image.normalizedDifference(['B4', 'B5']).rename('DO')\n",
        "  return image.addBands(do)\n",
        "do = sentinel_AOI.map(calculate_DO)"
      ]
    },
    {
      "cell_type": "code",
      "execution_count": 29,
      "metadata": {
        "id": "JSjReHUMNL-g"
      },
      "outputs": [],
      "source": [
        "def calcualte_mean_DO(image):\n",
        "  image = ee.Image(image)\n",
        "  mean = image.reduceRegion(reducer = ee.Reducer.mean().setOutputs(['DO']),\n",
        "                           geometry = lower_Lake_AOI,\n",
        "                           scale = image.projection().nominalScale().getInfo(),\n",
        "                           maxPixels = 100000,\n",
        "                           bestEffort = True);\n",
        "  return mean.get('DO').getInfo()"
      ]
    },
    {
      "cell_type": "code",
      "execution_count": 30,
      "metadata": {
        "id": "I8xt50bKNTJX"
      },
      "outputs": [],
      "source": [
        "Images_do = do.select('DO').toList(do.size())\n",
        "do_coll = []\n",
        "for i in range(Images_do.length().getInfo()):\n",
        "  image = ee.Image(Images_do.get(i-1))\n",
        "  temp_do = calcualte_mean_DO(image)\n",
        "  do_coll.append(temp_do)"
      ]
    },
    {
      "cell_type": "code",
      "execution_count": 31,
      "metadata": {
        "id": "2BF-Mz7WNxqr"
      },
      "outputs": [],
      "source": [
        "dates = np.array(do.aggregate_array(\"system:time_start\").getInfo())\n",
        "day = [datetime.datetime.fromtimestamp(i/1000).strftime('%Y-%m-%d') for i in (dates)]"
      ]
    },
    {
      "cell_type": "code",
      "execution_count": 32,
      "metadata": {
        "id": "pIstxRBDN3rr"
      },
      "outputs": [],
      "source": [
        "df4 = pd.DataFrame(do_coll, index = day, columns = ['Dissolved Oxygen'])\n",
        "df4.index = pd.to_datetime(df4.index, format=\"%Y/%m/%d\")\n",
        "df4.sort_index(ascending = True, inplace = True)"
      ]
    },
    {
      "cell_type": "code",
      "execution_count": 33,
      "metadata": {
        "colab": {
          "base_uri": "https://localhost:8080/",
          "height": 423
        },
        "id": "AUMy-d2YPw6a",
        "outputId": "c21e085d-d750-47d8-fbb9-3533ac536e7b"
      },
      "outputs": [
        {
          "data": {
            "text/html": [
              "<div>\n",
              "<style scoped>\n",
              "    .dataframe tbody tr th:only-of-type {\n",
              "        vertical-align: middle;\n",
              "    }\n",
              "\n",
              "    .dataframe tbody tr th {\n",
              "        vertical-align: top;\n",
              "    }\n",
              "\n",
              "    .dataframe thead th {\n",
              "        text-align: right;\n",
              "    }\n",
              "</style>\n",
              "<table border=\"1\" class=\"dataframe\">\n",
              "  <thead>\n",
              "    <tr style=\"text-align: right;\">\n",
              "      <th></th>\n",
              "      <th>Dissolved Oxygen</th>\n",
              "    </tr>\n",
              "  </thead>\n",
              "  <tbody>\n",
              "    <tr>\n",
              "      <th>2018-12-18</th>\n",
              "      <td>-0.041608</td>\n",
              "    </tr>\n",
              "    <tr>\n",
              "      <th>2018-12-23</th>\n",
              "      <td>-0.071488</td>\n",
              "    </tr>\n",
              "    <tr>\n",
              "      <th>2018-12-28</th>\n",
              "      <td>-0.197621</td>\n",
              "    </tr>\n",
              "    <tr>\n",
              "      <th>2019-01-02</th>\n",
              "      <td>-0.139806</td>\n",
              "    </tr>\n",
              "    <tr>\n",
              "      <th>2019-01-07</th>\n",
              "      <td>-0.082936</td>\n",
              "    </tr>\n",
              "    <tr>\n",
              "      <th>...</th>\n",
              "      <td>...</td>\n",
              "    </tr>\n",
              "    <tr>\n",
              "      <th>2022-12-02</th>\n",
              "      <td>-0.034098</td>\n",
              "    </tr>\n",
              "    <tr>\n",
              "      <th>2022-12-07</th>\n",
              "      <td>-0.038263</td>\n",
              "    </tr>\n",
              "    <tr>\n",
              "      <th>2022-12-17</th>\n",
              "      <td>-0.043224</td>\n",
              "    </tr>\n",
              "    <tr>\n",
              "      <th>2022-12-22</th>\n",
              "      <td>-0.056287</td>\n",
              "    </tr>\n",
              "    <tr>\n",
              "      <th>2022-12-27</th>\n",
              "      <td>-0.040134</td>\n",
              "    </tr>\n",
              "  </tbody>\n",
              "</table>\n",
              "<p>166 rows × 1 columns</p>\n",
              "</div>"
            ],
            "text/plain": [
              "            Dissolved Oxygen\n",
              "2018-12-18         -0.041608\n",
              "2018-12-23         -0.071488\n",
              "2018-12-28         -0.197621\n",
              "2019-01-02         -0.139806\n",
              "2019-01-07         -0.082936\n",
              "...                      ...\n",
              "2022-12-02         -0.034098\n",
              "2022-12-07         -0.038263\n",
              "2022-12-17         -0.043224\n",
              "2022-12-22         -0.056287\n",
              "2022-12-27         -0.040134\n",
              "\n",
              "[166 rows x 1 columns]"
            ]
          },
          "execution_count": 33,
          "metadata": {},
          "output_type": "execute_result"
        }
      ],
      "source": [
        "df4"
      ]
    },
    {
      "cell_type": "code",
      "execution_count": 34,
      "metadata": {
        "id": "BhuBkMKH9FZy"
      },
      "outputs": [],
      "source": [
        "df4.to_csv('Dissolved Oxygen.csv')"
      ]
    },
    {
      "cell_type": "markdown",
      "metadata": {
        "id": "rFq6kW0mEbWs"
      },
      "source": [
        "# **pH**"
      ]
    },
    {
      "cell_type": "code",
      "execution_count": 35,
      "metadata": {
        "id": "Cd0tVe4UEbWt"
      },
      "outputs": [],
      "source": [
        "def calculate_pH(image):\n",
        "  ph = ee.Image(8.339).subtract(ee.Image(0.827).multiply(image.select('B1').divide(image.select('B8')))).rename('PH')\n",
        "  return image.addBands(ph)\n",
        "pH = sentinel_AOI.map(calculate_pH)"
      ]
    },
    {
      "cell_type": "code",
      "execution_count": 36,
      "metadata": {
        "id": "5K9w3yvwEbWt"
      },
      "outputs": [],
      "source": [
        "def calculate_mean_pH(image):\n",
        "  image = ee.Image(image)\n",
        "  mean = image.reduceRegion(reducer = ee.Reducer.mean().setOutputs(['PH']),\n",
        "                           geometry = lower_Lake_AOI,\n",
        "                           scale = image.projection().nominalScale().getInfo(),\n",
        "                           maxPixels = 100000,\n",
        "                           bestEffort = True);\n",
        "  return mean.get('PH').getInfo()"
      ]
    },
    {
      "cell_type": "code",
      "execution_count": 37,
      "metadata": {
        "id": "VswLcrkIEbWt"
      },
      "outputs": [],
      "source": [
        "Images_ph = pH.select('PH').toList(pH.size())\n",
        "ph_coll= []\n",
        "for i in range(Images_ph.length().getInfo()):\n",
        "  image = ee.Image(Images_ph.get(i-1))\n",
        "  temp_ph = calculate_mean_pH(image)\n",
        "  ph_coll.append(temp_ph)"
      ]
    },
    {
      "cell_type": "code",
      "execution_count": 38,
      "metadata": {
        "id": "DiPJQU6EEbWt"
      },
      "outputs": [],
      "source": [
        "dates = np.array(pH.aggregate_array(\"system:time_start\").getInfo())\n",
        "day = [datetime.datetime.fromtimestamp(i/1000).strftime('%Y-%m-%d') for i in (dates)]"
      ]
    },
    {
      "cell_type": "code",
      "execution_count": 39,
      "metadata": {
        "id": "iGd-MKU8EbWt"
      },
      "outputs": [],
      "source": [
        "df6 = pd.DataFrame(ph_coll, index = day, columns = ['pH'])\n",
        "df6.index = pd.to_datetime(df6.index, format=\"%Y/%m/%d\")\n",
        "df6.sort_index(ascending = True, inplace = True)"
      ]
    },
    {
      "cell_type": "code",
      "execution_count": 40,
      "metadata": {
        "colab": {
          "base_uri": "https://localhost:8080/",
          "height": 423
        },
        "id": "2OBaVVDgEbWu",
        "outputId": "f898ed21-e758-4892-e2f9-0167592a4489"
      },
      "outputs": [
        {
          "data": {
            "text/html": [
              "<div>\n",
              "<style scoped>\n",
              "    .dataframe tbody tr th:only-of-type {\n",
              "        vertical-align: middle;\n",
              "    }\n",
              "\n",
              "    .dataframe tbody tr th {\n",
              "        vertical-align: top;\n",
              "    }\n",
              "\n",
              "    .dataframe thead th {\n",
              "        text-align: right;\n",
              "    }\n",
              "</style>\n",
              "<table border=\"1\" class=\"dataframe\">\n",
              "  <thead>\n",
              "    <tr style=\"text-align: right;\">\n",
              "      <th></th>\n",
              "      <th>pH</th>\n",
              "    </tr>\n",
              "  </thead>\n",
              "  <tbody>\n",
              "    <tr>\n",
              "      <th>2018-12-18</th>\n",
              "      <td>7.567741</td>\n",
              "    </tr>\n",
              "    <tr>\n",
              "      <th>2018-12-23</th>\n",
              "      <td>7.174907</td>\n",
              "    </tr>\n",
              "    <tr>\n",
              "      <th>2018-12-28</th>\n",
              "      <td>7.414977</td>\n",
              "    </tr>\n",
              "    <tr>\n",
              "      <th>2019-01-02</th>\n",
              "      <td>7.365687</td>\n",
              "    </tr>\n",
              "    <tr>\n",
              "      <th>2019-01-07</th>\n",
              "      <td>7.508085</td>\n",
              "    </tr>\n",
              "    <tr>\n",
              "      <th>...</th>\n",
              "      <td>...</td>\n",
              "    </tr>\n",
              "    <tr>\n",
              "      <th>2022-12-02</th>\n",
              "      <td>7.506434</td>\n",
              "    </tr>\n",
              "    <tr>\n",
              "      <th>2022-12-07</th>\n",
              "      <td>7.559180</td>\n",
              "    </tr>\n",
              "    <tr>\n",
              "      <th>2022-12-17</th>\n",
              "      <td>7.614748</td>\n",
              "    </tr>\n",
              "    <tr>\n",
              "      <th>2022-12-22</th>\n",
              "      <td>7.544612</td>\n",
              "    </tr>\n",
              "    <tr>\n",
              "      <th>2022-12-27</th>\n",
              "      <td>7.501703</td>\n",
              "    </tr>\n",
              "  </tbody>\n",
              "</table>\n",
              "<p>166 rows × 1 columns</p>\n",
              "</div>"
            ],
            "text/plain": [
              "                  pH\n",
              "2018-12-18  7.567741\n",
              "2018-12-23  7.174907\n",
              "2018-12-28  7.414977\n",
              "2019-01-02  7.365687\n",
              "2019-01-07  7.508085\n",
              "...              ...\n",
              "2022-12-02  7.506434\n",
              "2022-12-07  7.559180\n",
              "2022-12-17  7.614748\n",
              "2022-12-22  7.544612\n",
              "2022-12-27  7.501703\n",
              "\n",
              "[166 rows x 1 columns]"
            ]
          },
          "execution_count": 40,
          "metadata": {},
          "output_type": "execute_result"
        }
      ],
      "source": [
        "df6"
      ]
    },
    {
      "cell_type": "code",
      "execution_count": 41,
      "metadata": {
        "id": "4wcnH4MjKeox"
      },
      "outputs": [],
      "source": [
        "df6.to_csv('pH.csv')"
      ]
    },
    {
      "cell_type": "markdown",
      "metadata": {
        "id": "W60-GpncYzZT"
      },
      "source": [
        "# **Temperature**"
      ]
    },
    {
      "cell_type": "markdown",
      "metadata": {
        "id": "gvhFV18CZCrE"
      },
      "source": [
        "\n",
        "Selecting the Satellite\n",
        "\n"
      ]
    },
    {
      "cell_type": "code",
      "execution_count": 42,
      "metadata": {
        "id": "fFMPGgPNZBzt"
      },
      "outputs": [],
      "source": [
        "landsat = ee.ImageCollection(\"LANDSAT/LC08/C02/T1_L2\").\\\n",
        "              filterDate(\"2016-01-01\",\"2022-01-01\")\n",
        "sarapangi_AOI = ee.Geometry.Polygon([[[77.42117255516425,23.20909792227606],[77.42057174034491,23.20799353262676],[77.42040007896796,23.207520219982936],[77.4200996715583,23.2069285768207],[77.41949885673895,23.207125791499145],[77.41902678795233,23.207007462726995],[77.41889804191962,23.206258044736966],[77.41868346519843,23.20550862254438],[77.41868346519843,23.204995857570196],[77.41851180382147,23.204680308915954],[77.41816848106757,23.203970321719954],[77.41885512657538,23.20314199855786],[77.41928428001776,23.202787001345527],[77.4204429943122,23.201840337503217],[77.42082923241034,23.201406447668166],[77.42125838585272,23.20089366695645],[77.42173045463934,23.20101200114144],[77.4224600154914,23.20140644766817],[77.42327540703192,23.20152478139923],[77.42361872978583,23.20187978196384],[77.42366164513007,23.202313670262438],[77.42413371391669,23.202589780264603],[77.42464869804755,23.203209392314182],[77.42507785148993,23.203761608047508],[77.42524951286688,23.20451104003633],[77.42451995201483,23.20569434514694],[77.42387622185126,23.206207107441198],[77.42348998375311,23.20707485453413],[77.42306083031075,23.208179251775938],[77.42284625358954,23.208692004535596],[77.42207377739327,23.20853423466525],[77.42143004722968,23.20837646460864],[77.42117255516425,23.20909792227606]]])\n",
        "\n",
        "landsat_AOI = landsat.filterBounds(sarapangi_AOI)"
      ]
    },
    {
      "cell_type": "code",
      "execution_count": 43,
      "metadata": {
        "colab": {
          "base_uri": "https://localhost:8080/"
        },
        "id": "W36zNf-yc5t0",
        "outputId": "9789976c-2204-4296-ec2a-869d029249d2"
      },
      "outputs": [
        {
          "name": "stdout",
          "output_type": "stream",
          "text": [
            "Total number of images : 227\n"
          ]
        }
      ],
      "source": [
        "print('Total number of images :', landsat_AOI.size().getInfo())"
      ]
    },
    {
      "cell_type": "code",
      "execution_count": 44,
      "metadata": {
        "id": "ycE2QZJCZSwd"
      },
      "outputs": [],
      "source": [
        "def calculate_temp(image):\n",
        "  temp = image.select('ST_B.*').multiply(0.00341802).add(149.0).subtract(273.15).rename('temperature')\n",
        "  return image.addBands(temp)\n",
        "temp = landsat_AOI.map(calculate_temp)\n"
      ]
    },
    {
      "cell_type": "code",
      "execution_count": 45,
      "metadata": {
        "id": "xOfG61oaZyKo"
      },
      "outputs": [],
      "source": [
        "def calculate_mean_temp(image):\n",
        "  image = ee.Image(image)\n",
        "  mean = image.reduceRegion(reducer = ee.Reducer.mean().setOutputs(['temperature']),\n",
        "                           geometry = lower_Lake_AOI,\n",
        "                           scale = image.projection().nominalScale().getInfo(),\n",
        "                           maxPixels = 100000,\n",
        "                           bestEffort = True);\n",
        "  return mean.get('temperature').getInfo()"
      ]
    },
    {
      "cell_type": "code",
      "execution_count": 46,
      "metadata": {
        "id": "bldmSHJve5wS"
      },
      "outputs": [],
      "source": [
        "Images_temp = temp.select('temperature').toList(temp.size())\n",
        "temp_coll = []\n",
        "for i in range(Images_temp.length().getInfo()):\n",
        "  image = ee.Image(Images_temp.get(i-1))\n",
        "  tempe_temp = calculate_mean_temp(image)\n",
        "  temp_coll.append(tempe_temp)"
      ]
    },
    {
      "cell_type": "code",
      "execution_count": null,
      "metadata": {
        "id": "YH1eqrnBlp0p"
      },
      "outputs": [],
      "source": [
        "dates = np.array(temp.aggregate_array(\"system:time_start\").getInfo())\n",
        "day = [datetime.datetime.fromtimestamp(i/1000).strftime('%Y-%m-%d') for i in (dates)]"
      ]
    },
    {
      "cell_type": "code",
      "execution_count": null,
      "metadata": {
        "id": "6C4A_zLTGIA6"
      },
      "outputs": [],
      "source": [
        "df5 = pd.DataFrame(temp_coll, index = day, columns = ['Temperature'])\n",
        "df5.index = pd.to_datetime(df5.index, format=\"%Y/%m/%d\")\n",
        "df5.sort_index(ascending = True, inplace = True)"
      ]
    },
    {
      "cell_type": "code",
      "execution_count": null,
      "metadata": {
        "colab": {
          "base_uri": "https://localhost:8080/",
          "height": 423
        },
        "id": "fIgFt4uEGLIb",
        "outputId": "8e8862cd-ab3e-4fb6-c099-d9a6a19c785d"
      },
      "outputs": [
        {
          "data": {
            "text/html": [
              "<div>\n",
              "<style scoped>\n",
              "    .dataframe tbody tr th:only-of-type {\n",
              "        vertical-align: middle;\n",
              "    }\n",
              "\n",
              "    .dataframe tbody tr th {\n",
              "        vertical-align: top;\n",
              "    }\n",
              "\n",
              "    .dataframe thead th {\n",
              "        text-align: right;\n",
              "    }\n",
              "</style>\n",
              "<table border=\"1\" class=\"dataframe\">\n",
              "  <thead>\n",
              "    <tr style=\"text-align: right;\">\n",
              "      <th></th>\n",
              "      <th>Temperature</th>\n",
              "    </tr>\n",
              "  </thead>\n",
              "  <tbody>\n",
              "    <tr>\n",
              "      <th>2016-01-07</th>\n",
              "      <td>11.141135</td>\n",
              "    </tr>\n",
              "    <tr>\n",
              "      <th>2016-01-14</th>\n",
              "      <td>20.563696</td>\n",
              "    </tr>\n",
              "    <tr>\n",
              "      <th>2016-01-23</th>\n",
              "      <td>20.254142</td>\n",
              "    </tr>\n",
              "    <tr>\n",
              "      <th>2016-01-30</th>\n",
              "      <td>21.240283</td>\n",
              "    </tr>\n",
              "    <tr>\n",
              "      <th>2016-02-08</th>\n",
              "      <td>19.867021</td>\n",
              "    </tr>\n",
              "    <tr>\n",
              "      <th>...</th>\n",
              "      <td>...</td>\n",
              "    </tr>\n",
              "    <tr>\n",
              "      <th>2021-11-27</th>\n",
              "      <td>22.931843</td>\n",
              "    </tr>\n",
              "    <tr>\n",
              "      <th>2021-12-06</th>\n",
              "      <td>25.527435</td>\n",
              "    </tr>\n",
              "    <tr>\n",
              "      <th>2021-12-13</th>\n",
              "      <td>24.450103</td>\n",
              "    </tr>\n",
              "    <tr>\n",
              "      <th>2021-12-22</th>\n",
              "      <td>23.988728</td>\n",
              "    </tr>\n",
              "    <tr>\n",
              "      <th>2021-12-29</th>\n",
              "      <td>20.942484</td>\n",
              "    </tr>\n",
              "  </tbody>\n",
              "</table>\n",
              "<p>227 rows × 1 columns</p>\n",
              "</div>"
            ],
            "text/plain": [
              "            Temperature\n",
              "2016-01-07    11.141135\n",
              "2016-01-14    20.563696\n",
              "2016-01-23    20.254142\n",
              "2016-01-30    21.240283\n",
              "2016-02-08    19.867021\n",
              "...                 ...\n",
              "2021-11-27    22.931843\n",
              "2021-12-06    25.527435\n",
              "2021-12-13    24.450103\n",
              "2021-12-22    23.988728\n",
              "2021-12-29    20.942484\n",
              "\n",
              "[227 rows x 1 columns]"
            ]
          },
          "execution_count": 79,
          "metadata": {},
          "output_type": "execute_result"
        }
      ],
      "source": [
        "df5"
      ]
    },
    {
      "cell_type": "code",
      "execution_count": null,
      "metadata": {
        "id": "aLtgmkH_hRq3"
      },
      "outputs": [],
      "source": [
        "df5.to_csv('Temperature.csv')"
      ]
    }
  ],
  "metadata": {
    "accelerator": "GPU",
    "colab": {
      "provenance": []
    },
    "gpuClass": "standard",
    "kernelspec": {
      "display_name": "Python 3",
      "name": "python3"
    },
    "language_info": {
      "codemirror_mode": {
        "name": "ipython",
        "version": 3
      },
      "file_extension": ".py",
      "mimetype": "text/x-python",
      "name": "python",
      "nbconvert_exporter": "python",
      "pygments_lexer": "ipython3",
      "version": "3.10.2"
    }
  },
  "nbformat": 4,
  "nbformat_minor": 0
}
